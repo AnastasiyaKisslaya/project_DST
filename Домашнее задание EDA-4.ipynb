{
 "cells": [
  {
   "cell_type": "code",
   "execution_count": null,
   "metadata": {},
   "outputs": [],
   "source": []
  }
 ],
 "metadata": {
  "kernelspec": {
   "display_name": "Python 3.9.10 64-bit",
   "language": "python",
   "name": "python3"
  },
  "language_info": {
   "name": "python",
   "version": "3.9.10"
  },
  "orig_nbformat": 4,
  "vscode": {
   "interpreter": {
    "hash": "fd585c0bf2fcd88b470d58f65818ccc37721f373508a9555a028a49055fbba08"
   }
  }
 },
 "nbformat": 4,
 "nbformat_minor": 2
}
